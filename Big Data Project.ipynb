{
 "cells": [
  {
   "cell_type": "code",
   "execution_count": 1,
   "metadata": {},
   "outputs": [],
   "source": [
    "from datetime import datetime\n",
    "import pytz\n",
    "from requests_html import HTMLSession\n",
    "import mysql.connector\n",
    "s = HTMLSession()"
   ]
  },
  {
   "cell_type": "code",
   "execution_count": 2,
   "metadata": {},
   "outputs": [],
   "source": [
    "def get_local_datetime(query):\n",
    "    timezone_bt = pytz.timezone('Europe/London')\n",
    "    timezone_cet = pytz.timezone('Europe/Paris')\n",
    "    timezone_eest = pytz.timezone('Europe/Bucharest')\n",
    "    if query == 'london':\n",
    "        local_datetime = str(datetime.now(timezone_bt))[0:19]\n",
    "    elif query == 'nice':\n",
    "        local_datetime = str(datetime.now(timezone_cet))[0:19]\n",
    "    elif query == 'rome':\n",
    "        local_datetime = str(datetime.now(timezone_cet))[0:19]\n",
    "    elif query == 'mykonos':\n",
    "        local_datetime = str(datetime.now(timezone_eest))[0:19]\n",
    "    elif query == 'cluj-napoca':\n",
    "        local_datetime = str(datetime.now(timezone_eest))[0:19]\n",
    "    elif query == 'copenhagen':\n",
    "        local_datetime = str(datetime.now(timezone_cet))[0:19]\n",
    "    elif query == 'stockholm':\n",
    "        local_datetime = str(datetime.now(timezone_cet))[0:19]\n",
    "    elif query == 'oslo':\n",
    "        local_datetime = str(datetime.now(timezone_cet))[0:19]\n",
    "    return local_datetime"
   ]
  },
  {
   "cell_type": "code",
   "execution_count": 3,
   "metadata": {},
   "outputs": [],
   "source": [
    "def get_location_id(query):\n",
    "    if query == 'london':\n",
    "        loc_id = 1\n",
    "    elif query == 'nice':\n",
    "        loc_id = 2\n",
    "    elif query == 'rome':\n",
    "        loc_id = 3\n",
    "    elif query == 'mykonos':\n",
    "        loc_id = 4\n",
    "    elif query == 'cluj-napoca':\n",
    "        loc_id = 5\n",
    "    elif query == 'copenhagen':\n",
    "        loc_id = 6\n",
    "    elif query == 'stockholm':\n",
    "        loc_id = 7\n",
    "    elif query == 'oslo':\n",
    "        loc_id = 8\n",
    "    return loc_id"
   ]
  },
  {
   "cell_type": "code",
   "execution_count": 4,
   "metadata": {},
   "outputs": [],
   "source": [
    "def get_weather_data(query):\n",
    "    loc_id = get_location_id(query)\n",
    "    local_time = get_local_datetime(query)\n",
    "    url = f'https://www.google.com/search?q=weather+{query}'\n",
    "    r = s.get(url, headers={'User-Agent': 'Mozilla/5.0 (Windows NT 10.0; Win64; x64) AppleWebKit/537.36 (KHTML, like Gecko) Chrome/102.0.0.0 Safari/537.36',  \"Accept-Language\": \"en-UK,en;q=0.9,ar;q=0.8\"})\n",
    "    temp = r.html.find('span#wob_tm', first = True).text\n",
    "    unit = r.html.find('div.vk_bk.wob-unit span.wob_t', first= True).text\n",
    "    descr = r.html.find('div.VQF4g', first = True).find('span#wob_dc', first = True).text\n",
    "    prec = r.html.find('span#wob_pp', first = True).text\n",
    "    humi = r.html.find('span#wob_hm', first = True).text\n",
    "    wind = r.html.find('span#wob_ws', first = True).text\n",
    "    return loc_id, local_time, temp, unit, descr, prec, humi, wind"
   ]
  },
  {
   "cell_type": "code",
   "execution_count": 5,
   "metadata": {},
   "outputs": [],
   "source": [
    "mydb = mysql.connector.connect(\n",
    "    host='weather-database-instance-1.cftovd3de2b5.eu-west-1.rds.amazonaws.com',\n",
    "    user='admin', \n",
    "    passwd='rootroot', \n",
    "    database='weather')"
   ]
  },
  {
   "cell_type": "code",
   "execution_count": 6,
   "metadata": {},
   "outputs": [],
   "source": [
    "mycursor = mydb.cursor()"
   ]
  },
  {
   "cell_type": "code",
   "execution_count": 7,
   "metadata": {},
   "outputs": [],
   "source": [
    "sql = \"INSERT INTO weather_data (location_id, local_time, temperature, measureament_unit, description, precipitations, humidity, wind) VALUES (%s, %s, %s, %s, %s, %s, %s, %s)\"\n",
    "queries = ['london', 'nice', 'rome', 'mykonos', 'cluj-napoca', 'copenhagen', 'stockholm', 'oslo']\n",
    "for query in queries:\n",
    "    loc_id, local_time, temp, unit, descr, prec, humi, wind = get_weather_data(query)\n",
    "    val = (loc_id, local_time, temp, unit, descr, prec, humi, wind)\n",
    "    mycursor.execute(sql, val)\n",
    "    mydb.commit()"
   ]
  }
 ],
 "metadata": {
  "kernelspec": {
   "display_name": "Python 3",
   "language": "python",
   "name": "python3"
  },
  "language_info": {
   "codemirror_mode": {
    "name": "ipython",
    "version": 3
   },
   "file_extension": ".py",
   "mimetype": "text/x-python",
   "name": "python",
   "nbconvert_exporter": "python",
   "pygments_lexer": "ipython3",
   "version": "3.8.5"
  }
 },
 "nbformat": 4,
 "nbformat_minor": 4
}
